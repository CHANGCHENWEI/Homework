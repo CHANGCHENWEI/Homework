{
 "cells": [
  {
   "cell_type": "code",
   "execution_count": null,
   "metadata": {},
   "outputs": [],
   "source": [
    "%matplotlib inline\n",
    "\n",
    "import numpy as np\n",
    "import matplotlib.pyplot as plt\n",
    "import pandas as pd"
   ]
  },
  {
   "cell_type": "code",
   "execution_count": null,
   "metadata": {},
   "outputs": [],
   "source": [
    "# 陣列導向 101\n",
    "\n",
    "'''\n",
    "計算平均\n",
    "某位同學期中考各科成績如下, 請幫他計算成績。\n",
    "grades = [77, 85, 56, 90, 66]\n",
    "'''\n",
    "\n",
    "s = 0 \n",
    "grades = [77, 85, 60, 90, 66, 0, 88]\n",
    "for i in grades:\n",
    "    s = s + i # s += i\n",
    "print(\"average = {:.2f}\".format(s/len(grades)))\n"
   ]
  },
  {
   "cell_type": "code",
   "execution_count": null,
   "metadata": {},
   "outputs": [],
   "source": [
    "# Use array\n",
    "arr = np.array(grades)\n",
    "arr.mean()\n"
   ]
  },
  {
   "cell_type": "code",
   "execution_count": null,
   "metadata": {},
   "outputs": [],
   "source": [
    "arr.max()"
   ]
  },
  {
   "cell_type": "code",
   "execution_count": null,
   "metadata": {},
   "outputs": [],
   "source": [
    "arr.std() #標準差"
   ]
  },
  {
   "cell_type": "code",
   "execution_count": null,
   "metadata": {},
   "outputs": [],
   "source": [
    "# 換算匯率\n",
    "prices = [1096.95, 596.95, 896.95]\n",
    "\n",
    "usd2twd = 37.71\n",
    "twd_prices = []\n",
    "for price in prices:\n",
    "    twd = price * usd2twd\n",
    "    twd_prices.append(twd)\n",
    "\n",
    "twd_prices\n",
    "\n",
    "'''\n",
    "prices = np.array(prices)\n",
    "prices * usd2twd\n",
    "'''"
   ]
  },
  {
   "cell_type": "code",
   "execution_count": null,
   "metadata": {},
   "outputs": [],
   "source": [
    "'''\n",
    "【練習】 成績計算\n",
    "一位老師成績這樣算的:\n",
    "\n",
    "平時成績 20%\n",
    "期中考 35%\n",
    "期未考 45%\n",
    "有位同學\n",
    "\n",
    "平時成績 85 分\n",
    "期中 70 分\n",
    "期末 80 分\n",
    "這位同學的學期成績是多少?\n",
    "'''\n",
    "\n",
    "grades = np.array([85, 70, 80])\n",
    "weights = np.array([0.2, 0.35, 0.45])\n",
    "grades * weights"
   ]
  },
  {
   "cell_type": "code",
   "execution_count": null,
   "metadata": {},
   "outputs": [],
   "source": [
    "weighted_grades = grades * weights\n",
    "weighted_grades.sum()"
   ]
  },
  {
   "cell_type": "code",
   "execution_count": null,
   "metadata": {},
   "outputs": [],
   "source": [
    "# 【技巧】 一行完成成績計算\n",
    "np.dot(grades, weights)"
   ]
  },
  {
   "cell_type": "markdown",
   "metadata": {},
   "source": [
    "# 重要的 array 大變身!"
   ]
  },
  {
   "cell_type": "code",
   "execution_count": null,
   "metadata": {},
   "outputs": [],
   "source": [
    "# 重要的 array 大變身!\n",
    "A = np.random.rand(50)\n",
    "A\n",
    "\n",
    "A.shape #檢查 A 的 shape\n"
   ]
  },
  {
   "cell_type": "code",
   "execution_count": null,
   "metadata": {},
   "outputs": [],
   "source": [
    "A.shape = (5,10) #更改 A 的 shape\n",
    "A"
   ]
  },
  {
   "cell_type": "code",
   "execution_count": null,
   "metadata": {},
   "outputs": [],
   "source": [
    "A.reshape(10,5) #reshape 並沒有改原來的陣列"
   ]
  },
  {
   "cell_type": "code",
   "execution_count": null,
   "metadata": {},
   "outputs": [],
   "source": [
    "A.ravel() #把多維陣列拉成一維"
   ]
  },
  {
   "cell_type": "markdown",
   "metadata": {},
   "source": [
    "# 快速 array 生成法"
   ]
  },
  {
   "cell_type": "code",
   "execution_count": null,
   "metadata": {},
   "outputs": [],
   "source": [
    "np.zeros(10) #都是 0 的 array\n",
    "# np.zeros((3,4))\n",
    "\n",
    "np.ones(10)  #都是 1 的 array\n",
    "# np.ones((2,5))"
   ]
  },
  {
   "cell_type": "code",
   "execution_count": null,
   "metadata": {},
   "outputs": [],
   "source": [
    "np.eye(5) #單位矩陣"
   ]
  },
  {
   "cell_type": "code",
   "execution_count": null,
   "metadata": {},
   "outputs": [],
   "source": [
    "x = np.linspace(0, 10, 100) #給定範圍均勻生出 n 個點"
   ]
  },
  {
   "cell_type": "code",
   "execution_count": null,
   "metadata": {},
   "outputs": [],
   "source": [
    "np.arange(1,10,0.2) #range 的 array 版"
   ]
  },
  {
   "cell_type": "markdown",
   "metadata": {},
   "source": [
    "# 超重要 axis 觀念\n",
    "其實掌握矩陣, 或很像矩陣的陣列都是「先列後行」就可以!"
   ]
  },
  {
   "cell_type": "code",
   "execution_count": null,
   "metadata": {},
   "outputs": [],
   "source": [
    "A = np.arange(10).reshape(2,5)\n",
    "A\n"
   ]
  },
  {
   "cell_type": "code",
   "execution_count": null,
   "metadata": {},
   "outputs": [],
   "source": [
    "A.sum(axis=0) #一列一列算過去是 axis=0"
   ]
  },
  {
   "cell_type": "code",
   "execution_count": null,
   "metadata": {},
   "outputs": [],
   "source": [
    "A.sum(axis=1) #一行一行算過去是 axis=1"
   ]
  },
  {
   "cell_type": "code",
   "execution_count": null,
   "metadata": {},
   "outputs": [],
   "source": [
    "A.sum() #全部算"
   ]
  },
  {
   "cell_type": "code",
   "execution_count": null,
   "metadata": {},
   "outputs": [],
   "source": [
    "# array 過濾器, 篩出我們要的資料, 這樣的技巧非常重要!\n",
    "\n",
    "【例子】篩出大於 0 的數\n",
    "L = np.array([3, -2, -1, 5, 7, -3])\n",
    "c = np.array([True, False, False, True, True, False])\n",
    "L[c]\n",
    "\n",
    "'''\n",
    "L>0\n",
    "array([ True, False, False,  True,  True, False], dtype=bool)\n",
    "or\n",
    "L[L>0]\n",
    "'''"
   ]
  },
  {
   "cell_type": "code",
   "execution_count": null,
   "metadata": {},
   "outputs": [],
   "source": [
    "# numpy 中 array 的切割法和 list 很像\n",
    "x = np.arange(10)\n",
    "x"
   ]
  },
  {
   "cell_type": "code",
   "execution_count": null,
   "metadata": {},
   "outputs": [],
   "source": [
    "x[2:5] # 2維陣列切法, 記得先列後行!"
   ]
  },
  {
   "cell_type": "code",
   "execution_count": null,
   "metadata": {},
   "outputs": [],
   "source": [
    "x.shape=(2,5)\n",
    "x"
   ]
  },
  {
   "cell_type": "code",
   "execution_count": null,
   "metadata": {},
   "outputs": [],
   "source": [
    "x[:, 1:3] #要所有的列, 切出行 1-3 位置\n"
   ]
  },
  {
   "cell_type": "code",
   "execution_count": null,
   "metadata": {},
   "outputs": [],
   "source": [
    "x[1, :] #要所有的行, 切出第 1 列!"
   ]
  },
  {
   "cell_type": "code",
   "execution_count": null,
   "metadata": {},
   "outputs": [],
   "source": [
    "# NumPy 的 zip 和 unzip, 做到的資料格式變換, 在 array 中怎麼做呢?\n",
    "\n",
    "zip and unzip\n",
    "x = np.array([1,2,3,4])\n",
    "y = np.array([5,6,7,8])\n",
    "X = np.c_[x,y]\n",
    "x"
   ]
  },
  {
   "cell_type": "code",
   "execution_count": null,
   "metadata": {},
   "outputs": [],
   "source": [
    "y"
   ]
  }
 ],
 "metadata": {
  "kernelspec": {
   "display_name": "Python 3",
   "language": "python",
   "name": "python3"
  },
  "language_info": {
   "codemirror_mode": {
    "name": "ipython",
    "version": 3
   },
   "file_extension": ".py",
   "mimetype": "text/x-python",
   "name": "python",
   "nbconvert_exporter": "python",
   "pygments_lexer": "ipython3",
   "version": "3.6.4"
  }
 },
 "nbformat": 4,
 "nbformat_minor": 2
}
