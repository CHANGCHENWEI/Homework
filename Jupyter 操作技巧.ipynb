{
 "cells": [
  {
   "cell_type": "markdown",
   "metadata": {},
   "source": [
    "# Jupyter 裡的 Widgets"
   ]
  },
  {
   "cell_type": "code",
   "execution_count": null,
   "metadata": {},
   "outputs": [],
   "source": [
    "from ipywidgets.widgets import *\n",
    "from IPython.display import display\n",
    "from IPython.display import HTML\n",
    "\n",
    "\n",
    "html = HTML('<h1>Hi</h1>')\n",
    "display(html)\n",
    "\n",
    "display(html)\n",
    "html.value = '<h1 style=\"color:red;\">你好</h1>'\n",
    "# 你會發現, 兩次的 display 都改了!! 這有什麼好處呢? 這就是我們放上一個在網頁上的 widget, 我們可以去改變它呈現的樣子。\n"
   ]
  },
  {
   "cell_type": "code",
   "execution_count": null,
   "metadata": {},
   "outputs": [],
   "source": [
    "# 為了示範一個「小動畫」例子, 我們做一隻會跑的蟲。為了不要讓蟲蟲「瞬間移動」, 我們引入 sleep。\n",
    "\n",
    "from time import sleep\n",
    "\n",
    "worm = HTML('<div style=\"color:green;\">oooo</div>')\n",
    "display(worm)\n",
    "\n",
    "for i in range(80):\n",
    "    htmlbase = '<div style=\"color:green;\">%s</div>'\n",
    "    html = htmlbase % (\"&nbsp;\" * (i+1) + \"oooo\")\n",
    "    worm.value = html\n",
    "    sleep(0.2) # 是說讓 Python 「睡」 0.2 秒, 再繼繼下一個動作。"
   ]
  },
  {
   "cell_type": "code",
   "execution_count": null,
   "metadata": {},
   "outputs": [],
   "source": [
    "\n",
    "#進度條\n",
    "# 進度條就是像我們下載大型檔案時, 電腦會出現目前已進行多少百分比的進度那個指示條。\n",
    "\n",
    "p = IntProgress()\n",
    "p.value=55\n",
    "display(p)\n",
    "\n",
    "for i in range(101):\n",
    "    p.value = i\n",
    "    sleep(0.1)"
   ]
  },
  {
   "cell_type": "code",
   "execution_count": null,
   "metadata": {},
   "outputs": [],
   "source": [
    "#數值滑桿\n",
    "s = IntSlider(min=1, max=10)\n",
    "s.color=\"#44AF69\"\n",
    "s.slider_color=\"#FCAB10\"\n",
    "s.background_color=\"#1FDE91\"\n",
    "display(s)\n",
    "s.keys"
   ]
  },
  {
   "cell_type": "code",
   "execution_count": null,
   "metadata": {},
   "outputs": [],
   "source": [
    "from ipywidgets import interact\n",
    "\n",
    "def f(x):\n",
    "    print(x)\n",
    "In [18]:\n",
    "interact(f, x=s);"
   ]
  },
  {
   "cell_type": "code",
   "execution_count": null,
   "metadata": {},
   "outputs": [],
   "source": [
    "# 文字框輸入後...\n",
    "\n",
    "me = Text(\"輸入訊息...\")\n",
    "me.description = \"輸入\"\n",
    "\n",
    "style1 = \"<p style='position:relative; left:80px; padding:10px; border-radius:25px; color:white; background:#4080FF; width:200px;'>\"\n",
    "style2 = \"<p style='padding:10px; border-radius:25px; background:#F1F0F0; width:200px;'>\"\n",
    "\n",
    "def pipi(sender):\n",
    "    display(HTML(style1 + me.value + '</p> <br>'))\n",
    "    display(HTML(style2 + '拍拍' + '</p> <br>'))\n",
    "    me.value = ''\n",
    "# 告訴我們的文字輸入框, 如果按下 enter, 也就是 submit, 就執行 pipi 這個函數。\n",
    "\n",
    "me.on_submit(pipi)\n",
    "# 最後 display 我們的輸入框就好了!\n",
    "\n",
    "display(me)\n",
    "\n"
   ]
  },
  {
   "cell_type": "code",
   "execution_count": null,
   "metadata": {},
   "outputs": [],
   "source": [
    "# 連結兩個 widgets\n",
    "from traitlets import link\n",
    "\n",
    "# 設個數字輸入框、數值滑桿。\n",
    "ftxt = FloatText()\n",
    "fsld = FloatSlider()\n",
    "\n",
    "# 設好連結, 把兩個 widgets 的物件同步。\n",
    "\n",
    "mylink = link((ftxt, 'value'), (fsld, 'value'))\n",
    "display(ftxt, fsld)\n",
    "\n",
    "# 我們也可以取消同步。\n",
    "mylink.unlink()\n",
    "\n"
   ]
  },
  {
   "cell_type": "markdown",
   "metadata": {},
   "source": [
    "'''\n",
    "進階應用\n",
    "這麼炫的工具當然也有人寫了進階應用的套件。我們來看三個例子:\n",
    "\n",
    "bqplot: 可以做 2D 互動畫圖的函式庫。\n",
    "pythreejs: 讓你在 Jupyter 中使用 three.js 這個 JavaScript 3D 函式庫!\n",
    "ipyleaflet: 在 Jupyter 中用 Leaflet 個互動地圖!\n",
    "'''"
   ]
  }
 ],
 "metadata": {
  "kernelspec": {
   "display_name": "Python 3",
   "language": "python",
   "name": "python3"
  },
  "language_info": {
   "codemirror_mode": {
    "name": "ipython",
    "version": 3
   },
   "file_extension": ".py",
   "mimetype": "text/x-python",
   "name": "python",
   "nbconvert_exporter": "python",
   "pygments_lexer": "ipython3",
   "version": "3.6.4"
  }
 },
 "nbformat": 4,
 "nbformat_minor": 2
}
