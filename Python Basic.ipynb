{
 "cells": [
  {
   "cell_type": "markdown",
   "metadata": {},
   "source": [
    "Python 計算機\n",
    "+, -, *, / 跟 指數 **"
   ]
  },
  {
   "cell_type": "code",
   "execution_count": null,
   "metadata": {},
   "outputs": [],
   "source": [
    "1+1"
   ]
  },
  {
   "cell_type": "code",
   "execution_count": null,
   "metadata": {},
   "outputs": [],
   "source": [
    "17+8*5"
   ]
  },
  {
   "cell_type": "code",
   "execution_count": 3,
   "metadata": {},
   "outputs": [
    {
     "data": {
      "text/plain": [
       "4"
      ]
     },
     "execution_count": 3,
     "metadata": {},
     "output_type": "execute_result"
    }
   ],
   "source": [
    "2**2"
   ]
  },
  {
   "cell_type": "markdown",
   "metadata": {},
   "source": [
    "# Python 條件判斷\n",
    "用途\t符號\n",
    "等於\t==\n",
    "不等於\t!=\n",
    "大於\t>\n",
    "小於\t<\n",
    "大於等於\t>=\n",
    "小於等於\t<="
   ]
  },
  {
   "cell_type": "code",
   "execution_count": null,
   "metadata": {},
   "outputs": [],
   "source": [
    "3 > 7\n",
    "\n",
    "3 < 7\n",
    "\n",
    "2 >= 3\n",
    "\n",
    "a = 87\n",
    "\n",
    "a = 94\n",
    "a == 94\n",
    "\n",
    "a != 94\n",
    "\n",
    "'Z' > 'B'\n"
   ]
  },
  {
   "attachments": {},
   "cell_type": "markdown",
   "metadata": {},
   "source": [
    "# 變數和函數"
   ]
  },
  {
   "cell_type": "code",
   "execution_count": null,
   "metadata": {},
   "outputs": [],
   "source": [
    "# 數字變數, 字串變數\n",
    "a = 87\n",
    "s = \"Python\"\n",
    "print(a + s)\n",
    "\n",
    "#變數可以用中文\n",
    "底 = 20\n",
    "高 = 17\n",
    "面積 = (底 * 高) / 2\n",
    "面積\n"
   ]
  },
  {
   "cell_type": "code",
   "execution_count": null,
   "metadata": {},
   "outputs": [],
   "source": [
    "# 飛機上為了飛安, 希望電池不要太「強力」。而這強度是用「瓦時」(Wh) 來計算。\n",
    "# 問題是我們常常只看到標計毫安時 (mAh) 和電壓的伏特 (V) 數, 所以要做換算。換算公式是這樣子的:\n",
    "# Wh = mAh/1000 * V\n",
    "\n",
    "mAh = 9600\n",
    "V = 6\n",
    "Wh = mAh/1000 * V"
   ]
  },
  {
   "cell_type": "code",
   "execution_count": null,
   "metadata": {},
   "outputs": [],
   "source": [
    "# 這樣子設變數比一般計算機方便, 但我們又不只一顆電池或行動電源。這時寫成函數比較方便!\n",
    "\n",
    "def Wh(mAh, V):\n",
    "    return mAh/1000 * V"
   ]
  },
  {
   "cell_type": "code",
   "execution_count": null,
   "metadata": {},
   "outputs": [],
   "source": [
    "Wh(9600, 6)"
   ]
  },
  {
   "cell_type": "code",
   "execution_count": null,
   "metadata": {},
   "outputs": [],
   "source": [
    "def fcn(x):\n",
    "    return x**2\n",
    "\n",
    "def 平方(x):\n",
    "    print(x**2)\n"
   ]
  },
  {
   "cell_type": "code",
   "execution_count": null,
   "metadata": {},
   "outputs": [],
   "source": [
    "a = fcn(5)\n",
    "a"
   ]
  },
  {
   "cell_type": "code",
   "execution_count": null,
   "metadata": {},
   "outputs": [],
   "source": [
    "b = 平方(5)\n",
    "b"
   ]
  },
  {
   "cell_type": "code",
   "execution_count": null,
   "metadata": {},
   "outputs": [],
   "source": [
    "print(\"{}的平方是{}\".format(a, fcn(a)))"
   ]
  },
  {
   "cell_type": "code",
   "execution_count": null,
   "metadata": {},
   "outputs": [],
   "source": [
    "# 萬用工具 print\n",
    "print(\"hello, world\")\n",
    "print(\"abc \" + \"def\")\n",
    "\n",
    "print(\"@\" * 20)\n",
    "\n",
    "name = \"jeffrye\"\n",
    "print(\"你好, \" + name + \"!\")\n"
   ]
  },
  {
   "cell_type": "code",
   "execution_count": null,
   "metadata": {},
   "outputs": [],
   "source": [
    "# 字串的格式化\n",
    "name = \"jeffrey\"\n",
    "place = \"台北市\"\n",
    "print(\"來自\" + place + \"的\" + name + \"你好!\")\n",
    "print(\"來自{}的{}你好!\".format(place, name))\n"
   ]
  },
  {
   "cell_type": "markdown",
   "metadata": {},
   "source": [
    "不同形態的變數\n",
    "變數名稱     例子 \n",
    "int          87 \n",
    "float        94.87 \n",
    "str          \"hello world\" \n",
    "list        [1, 2, 3, 4, 5] \n",
    "dict        {'A':1, 'B':2, 'C':3}"
   ]
  },
  {
   "cell_type": "markdown",
   "metadata": {},
   "source": [
    "# list 的快速生成法"
   ]
  },
  {
   "cell_type": "code",
   "execution_count": null,
   "metadata": {},
   "outputs": [],
   "source": [
    "# Assigment\n",
    "x = [0, 1, 2, 3, 4, 5, 6, 7, 8, 9, 10]\n",
    "x"
   ]
  },
  {
   "cell_type": "code",
   "execution_count": null,
   "metadata": {},
   "outputs": [],
   "source": [
    "list(range(10))"
   ]
  },
  {
   "cell_type": "code",
   "execution_count": null,
   "metadata": {},
   "outputs": [],
   "source": [
    "list(range(1, 10))"
   ]
  },
  {
   "cell_type": "code",
   "execution_count": null,
   "metadata": {},
   "outputs": [],
   "source": [
    "list(range(1,10,2))"
   ]
  },
  {
   "cell_type": "code",
   "execution_count": null,
   "metadata": {},
   "outputs": [],
   "source": [
    "# list 可以做加減乘除運算嗎?\n",
    "L = [23, 12, 77, -5, 33, 21]\n",
    "G = [23, 12, -5, 11, 33, 88]\n",
    "\n",
    "Y = L + G\n",
    "Z = L - G\n",
    "Z = L * 5\n",
    "S = L / 2"
   ]
  },
  {
   "cell_type": "code",
   "execution_count": null,
   "metadata": {},
   "outputs": [],
   "source": [
    "# list 很重要的是把我們要的那一段拿出來。\n",
    "\n",
    "l = [3,-5,6,8,10]\n",
    "l[2]"
   ]
  },
  {
   "cell_type": "code",
   "execution_count": null,
   "metadata": {},
   "outputs": [],
   "source": [
    "# 重點: list 的切割\n",
    "# 事實上切分點是在 list 元素和元素之間, 而且反過來算也可以哦。\n",
    "l[1:3]\n",
    "\n",
    "# l[2:5]\n",
    "\n",
    "l[2:]\n",
    "# l[:3]\n",
    "給我這個 list 的完整 copy。\n",
    "\n",
    "# l[:] # 給我這個 list 的完整 copy\n",
    "\n",
    "l[2] = 9 # 更改其中一個數字。\n",
    "l\n",
    "# l[-1]\n"
   ]
  },
  {
   "cell_type": "code",
   "execution_count": null,
   "metadata": {},
   "outputs": [],
   "source": [
    "# list 其實資料型態是可以混用的!\n",
    "\n",
    "grades = [\"hello\", 32, 55, 40]\n",
    "grades[0]\n",
    "\n",
    "# for 迴圈\n",
    "# for 迴圈就是把一個 list 中所有元素, 一個一個拿出處理。我們來看簡單的例子。\n",
    "\n",
    "l = range(1,11)\n",
    "\n",
    "for i in l:\n",
    "    print(i)\n",
    "\n",
    "'''\n",
    "for i in range(1,11):\n",
    "    print(\"*\"*i)\n",
    "'''\n",
    "\n",
    "# 用在 for 迴圈的 list 不一定要數字!\n",
    "\n",
    "names = [\"阿狗\", \"阿貓\", \"阿牛\"]\n",
    "In [64]:\n",
    "for name in names:\n",
    "    print(name)\n",
    "\n"
   ]
  },
  {
   "cell_type": "code",
   "execution_count": null,
   "metadata": {},
   "outputs": [],
   "source": [
    "# 檢查關鍵字有沒有在句字中\n",
    "\n",
    "keyword = \"悲傷\"\n",
    "message = \"我今天很悲傷\"\n",
    "keyword in message\n"
   ]
  },
  {
   "cell_type": "markdown",
   "metadata": {},
   "source": [
    "# 流程控制\n",
    "條件判斷\n",
    "回圈"
   ]
  },
  {
   "cell_type": "code",
   "execution_count": null,
   "metadata": {},
   "outputs": [],
   "source": [
    "# if ... elif ...else\n",
    "a = -7\n",
    "if a>3:\n",
    "    print(\"a 是大於 3 沒錯\")"
   ]
  },
  {
   "cell_type": "code",
   "execution_count": null,
   "metadata": {},
   "outputs": [],
   "source": [
    "# if ... elif ...else\n",
    "a = 5\n",
    "if a>3:\n",
    "    print(\"我只是要示範縮排\")\n",
    "    print(\"a 是大於 3 沒錯\")\n",
    "elif a<1:\n",
    "    print(\"我只是要示範縮排\")\n",
    "    print(\"a 不小於 1\")\n",
    "else:\n",
    "    print(\"a 等於 %d\", a)"
   ]
  },
  {
   "cell_type": "code",
   "execution_count": null,
   "metadata": {},
   "outputs": [],
   "source": [
    "# while 迴圈\n",
    "\n",
    "a = 0\n",
    "while a<=10:\n",
    "    print(a)\n",
    "    a = a + 1\n",
    "'''\n",
    "練習 (直到我說再見)\n",
    "寫一個對話機器人, 不管你說什麼都是回應「拍拍」, 直接你說「再見」。\n",
    "\n",
    "message = \"\"\n",
    "while message != \"bye\":\n",
    "    message = input(\">> \")\n",
    "    print(\"拍拍\")\n",
    "print(\"祝你有每好的一天\")\n",
    "'''\n"
   ]
  },
  {
   "cell_type": "code",
   "execution_count": null,
   "metadata": {},
   "outputs": [],
   "source": [
    "# for 迴圈\n",
    "for s in [\"狗\", \"貓\", \"牛\"]:\n",
    "    print(s)\n",
    "\n",
    "for d in [1, 2, 3]:\n",
    "    print(i, i**2)\n",
    "\n",
    "for dd in range(10):\n",
    "    print(2*i)\n",
    "\n",
    "for f in range(1,20):\n",
    "    print(\"*\" * i)\n"
   ]
  },
  {
   "cell_type": "code",
   "execution_count": null,
   "metadata": {},
   "outputs": [],
   "source": []
  },
  {
   "cell_type": "code",
   "execution_count": null,
   "metadata": {},
   "outputs": [],
   "source": [
    "'''\n",
    "猜數字遊戲\n",
    "電腦先從 1-100 選一個數字 (整數)。玩家去猜電腦的數字, 太大或太小電腦要提示, 直到猜對為止。\n",
    "'''\n",
    "\n",
    "k = np.random.randint(1,101)\n",
    "b = True\n",
    "while b:\n",
    "    a = input(\"請輸入一個數字: \") # Input 來做互動\n",
    "    a = int(a)\n",
    "    if a>k:\n",
    "        print(\"太大了!\")\n",
    "    elif a<k:\n",
    "        print(\"太小了!\")\n",
    "    else:\n",
    "        print(\"太神了!\")\n",
    "        b=False"
   ]
  },
  {
   "cell_type": "code",
   "execution_count": null,
   "metadata": {},
   "outputs": [],
   "source": [
    "'''\n",
    "假設你設計一個遊戲, 玩家會得到 1-10 分, 請依得分回應評語:\n",
    "\n",
    "得分\t評語\n",
    "8-10\t太神了!\n",
    "5-7\t不錯!\n",
    "1-4\t加油好嗎?\n",
    "'''\n"
   ]
  },
  {
   "cell_type": "code",
   "execution_count": null,
   "metadata": {},
   "outputs": [],
   "source": []
  }
 ],
 "metadata": {
  "kernelspec": {
   "display_name": "Python 3",
   "language": "python",
   "name": "python3"
  },
  "language_info": {
   "codemirror_mode": {
    "name": "ipython",
    "version": 3
   },
   "file_extension": ".py",
   "mimetype": "text/x-python",
   "name": "python",
   "nbconvert_exporter": "python",
   "pygments_lexer": "ipython3",
   "version": "3.6.4"
  }
 },
 "nbformat": 4,
 "nbformat_minor": 2
}
